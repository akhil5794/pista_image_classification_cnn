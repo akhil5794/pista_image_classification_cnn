{
 "cells": [
  {
   "cell_type": "code",
   "execution_count": 3,
   "id": "a1720dbb",
   "metadata": {},
   "outputs": [],
   "source": [
    "import tensorflow as tf\n",
    "from tensorflow.keras.preprocessing.image import ImageDataGenerator\n",
    "\n",
    "# Set the path to your dataset\n",
    "train_data_dir = './Pistachio_Image_Dataset/'\n",
    "input_shape = (600, 600)\n",
    "batch_size = 32\n",
    "num_classes = 2"
   ]
  },
  {
   "cell_type": "code",
   "execution_count": 4,
   "id": "74998215",
   "metadata": {},
   "outputs": [
    {
     "name": "stdout",
     "output_type": "stream",
     "text": [
      "Found 1719 images belonging to 2 classes.\n",
      "Found 429 images belonging to 2 classes.\n"
     ]
    }
   ],
   "source": [
    "train_datagen = ImageDataGenerator(rescale=1./255,\n",
    "    shear_range=0.2,\n",
    "    zoom_range=0.2,\n",
    "    horizontal_flip=True,\n",
    "    validation_split=0.2) # set validation split\n",
    "\n",
    "train_generator = train_datagen.flow_from_directory(\n",
    "    train_data_dir,\n",
    "    target_size=input_shape,\n",
    "    batch_size=batch_size,\n",
    "    class_mode='binary',\n",
    "    subset='training') # set as training data\n",
    "\n",
    "test_generator = train_datagen.flow_from_directory(\n",
    "    train_data_dir, # same directory as training data\n",
    "    target_size=input_shape,\n",
    "    batch_size=batch_size,\n",
    "    class_mode='binary',\n",
    "    subset='validation') # set as validation data"
   ]
  },
  {
   "cell_type": "code",
   "execution_count": 11,
   "id": "83a6cd10",
   "metadata": {},
   "outputs": [],
   "source": [
    "# Build the CNN model\n",
    "model = tf.keras.Sequential([\n",
    "    tf.keras.layers.Conv2D(32, (3, 3), activation='relu', input_shape=(input_shape[0], input_shape[1], 3)),\n",
    "    tf.keras.layers.MaxPooling2D((2, 2)),\n",
    "    tf.keras.layers.Conv2D(64, (3, 3), activation='relu'),\n",
    "    tf.keras.layers.MaxPooling2D((2, 2)),\n",
    "    tf.keras.layers.Conv2D(128, (3, 3), activation='relu'),\n",
    "    tf.keras.layers.MaxPooling2D((2, 2)),\n",
    "    tf.keras.layers.Flatten(),\n",
    "    tf.keras.layers.Dense(128, activation='relu'),\n",
    "    tf.keras.layers.Dense(1,activation='sigmoid')\n",
    "])"
   ]
  },
  {
   "cell_type": "code",
   "execution_count": 12,
   "id": "1f0dc434",
   "metadata": {},
   "outputs": [],
   "source": [
    "# Compile the model\n",
    "model.compile(optimizer='adam',\n",
    "              loss=tf.keras.losses.binary_crossentropy,\n",
    "              metrics=['accuracy'])"
   ]
  },
  {
   "cell_type": "code",
   "execution_count": 13,
   "id": "4c639d68",
   "metadata": {},
   "outputs": [
    {
     "name": "stdout",
     "output_type": "stream",
     "text": [
      "Epoch 1/10\n",
      "53/53 [==============================] - 581s 11s/step - loss: 1.0032 - accuracy: 0.6675\n",
      "Epoch 2/10\n",
      "53/53 [==============================] - 643s 12s/step - loss: 0.5657 - accuracy: 0.6924\n",
      "Epoch 3/10\n",
      "53/53 [==============================] - 677s 13s/step - loss: 0.5488 - accuracy: 0.7042\n",
      "Epoch 4/10\n",
      "53/53 [==============================] - 663s 12s/step - loss: 0.5593 - accuracy: 0.7018\n",
      "Epoch 5/10\n",
      "53/53 [==============================] - 676s 13s/step - loss: 0.5395 - accuracy: 0.7143\n",
      "Epoch 6/10\n",
      "53/53 [==============================] - 649s 12s/step - loss: 0.5483 - accuracy: 0.6929\n",
      "Epoch 7/10\n",
      "53/53 [==============================] - 1028s 19s/step - loss: 0.5276 - accuracy: 0.7155\n",
      "Epoch 8/10\n",
      "53/53 [==============================] - 12554s 241s/step - loss: 0.5324 - accuracy: 0.7327\n",
      "Epoch 9/10\n",
      "53/53 [==============================] - 798s 15s/step - loss: 0.5016 - accuracy: 0.7362\n",
      "Epoch 10/10\n",
      "53/53 [==============================] - 9732s 187s/step - loss: 0.5040 - accuracy: 0.7380\n",
      "14/14 [==============================] - 208s 14s/step - loss: 0.5340 - accuracy: 0.7273\n",
      "Test Loss: 0.5339850187301636\n",
      "Test Accuracy: 0.7272727489471436\n"
     ]
    }
   ],
   "source": [
    "# Train the model\n",
    "epochs = 10  # Adjust the number of epochs as needed\n",
    "history = model.fit(\n",
    "    train_generator,\n",
    "    steps_per_epoch=train_generator.samples // train_generator.batch_size,\n",
    "    epochs=epochs\n",
    ")\n",
    "\n",
    "# Evaluate the model\n",
    "loss, accuracy = model.evaluate(test_generator)\n",
    "print('Test Loss:', loss)\n",
    "print('Test Accuracy:', accuracy)"
   ]
  },
  {
   "cell_type": "code",
   "execution_count": null,
   "id": "5dc55e9c",
   "metadata": {},
   "outputs": [],
   "source": []
  }
 ],
 "metadata": {
  "kernelspec": {
   "display_name": "Python 3 (ipykernel)",
   "language": "python",
   "name": "python3"
  },
  "language_info": {
   "codemirror_mode": {
    "name": "ipython",
    "version": 3
   },
   "file_extension": ".py",
   "mimetype": "text/x-python",
   "name": "python",
   "nbconvert_exporter": "python",
   "pygments_lexer": "ipython3",
   "version": "3.9.7"
  }
 },
 "nbformat": 4,
 "nbformat_minor": 5
}
